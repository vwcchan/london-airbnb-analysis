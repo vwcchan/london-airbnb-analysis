{
 "cells": [
  {
   "cell_type": "code",
   "execution_count": 7,
   "metadata": {
    "collapsed": true,
    "pycharm": {
     "is_executing": false
    }
   },
   "outputs": [
    {
     "name": "stdout",
     "text": [
      "             neighbourhood neighbourhood_group  \\\n",
      "0     Kingston upon Thames                None   \n",
      "1                  Croydon                None   \n",
      "2                  Bromley                None   \n",
      "3                 Hounslow                None   \n",
      "4                   Ealing                None   \n",
      "5                 Havering                None   \n",
      "6               Hillingdon                None   \n",
      "7                   Harrow                None   \n",
      "8                    Brent                None   \n",
      "9                   Barnet                None   \n",
      "10                 Enfield                None   \n",
      "11          Waltham Forest                None   \n",
      "12               Redbridge                None   \n",
      "13                  Sutton                None   \n",
      "14                 Lambeth                None   \n",
      "15               Southwark                None   \n",
      "16                Lewisham                None   \n",
      "17               Greenwich                None   \n",
      "18                  Bexley                None   \n",
      "19    Richmond upon Thames                None   \n",
      "20                  Merton                None   \n",
      "21              Wandsworth                None   \n",
      "22  Hammersmith and Fulham                None   \n",
      "23  Kensington and Chelsea                None   \n",
      "24          City of London                None   \n",
      "25             Westminster                None   \n",
      "26                  Camden                None   \n",
      "27           Tower Hamlets                None   \n",
      "28               Islington                None   \n",
      "29                 Hackney                None   \n",
      "30                Haringey                None   \n",
      "31                  Newham                None   \n",
      "32    Barking and Dagenham                None   \n",
      "\n",
      "                                             geometry  \n",
      "0   MULTIPOLYGON (((-0.33068 51.32901, -0.33059 51...  \n",
      "1   MULTIPOLYGON (((-0.06402 51.31864, -0.06407 51...  \n",
      "2   MULTIPOLYGON (((0.01213 51.29960, 0.01196 51.2...  \n",
      "3   MULTIPOLYGON (((-0.24456 51.48870, -0.24468 51...  \n",
      "4   MULTIPOLYGON (((-0.41183 51.53408, -0.41188 51...  \n",
      "5   MULTIPOLYGON (((0.15869 51.51219, 0.15871 51.5...  \n",
      "6   MULTIPOLYGON (((-0.40407 51.61318, -0.40388 51...  \n",
      "7   MULTIPOLYGON (((-0.40407 51.61318, -0.40320 51...  \n",
      "8   MULTIPOLYGON (((-0.19657 51.52765, -0.19685 51...  \n",
      "9   MULTIPOLYGON (((-0.19990 51.67017, -0.19970 51...  \n",
      "10  MULTIPOLYGON (((-0.10580 51.69187, -0.10557 51...  \n",
      "11  MULTIPOLYGON (((0.01924 51.60822, 0.01931 51.6...  \n",
      "12  MULTIPOLYGON (((0.06937 51.54413, 0.06910 51.5...  \n",
      "13  MULTIPOLYGON (((-0.15657 51.32151, -0.15866 51...  \n",
      "14  MULTIPOLYGON (((-0.12846 51.48505, -0.12843 51...  \n",
      "15  MULTIPOLYGON (((-0.10892 51.50844, -0.10889 51...  \n",
      "16  MULTIPOLYGON (((-0.03241 51.49305, -0.03240 51...  \n",
      "17  MULTIPOLYGON (((-0.02485 51.48555, -0.02479 51...  \n",
      "18  MULTIPOLYGON (((0.12021 51.51145, 0.12159 51.5...  \n",
      "19  MULTIPOLYGON (((-0.32173 51.46541, -0.32172 51...  \n",
      "20  MULTIPOLYGON (((-0.13432 51.39093, -0.13438 51...  \n",
      "21  MULTIPOLYGON (((-0.22343 51.47152, -0.22327 51...  \n",
      "22  MULTIPOLYGON (((-0.24456 51.48870, -0.24460 51...  \n",
      "23  MULTIPOLYGON (((-0.18388 51.47742, -0.18403 51...  \n",
      "24  MULTIPOLYGON (((-0.11157 51.51076, -0.11159 51...  \n",
      "25  MULTIPOLYGON (((-0.15000 51.48548, -0.15009 51...  \n",
      "26  MULTIPOLYGON (((-0.14242 51.56912, -0.14250 51...  \n",
      "27  MULTIPOLYGON (((-0.07938 51.50784, -0.07934 51...  \n",
      "28  MULTIPOLYGON (((-0.13839 51.55686, -0.13851 51...  \n",
      "29  MULTIPOLYGON (((-0.09767 51.57365, -0.09756 51...  \n",
      "30  MULTIPOLYGON (((-0.09767 51.57365, -0.09780 51...  \n",
      "31  MULTIPOLYGON (((0.07549 51.52982, 0.07546 51.5...  \n",
      "32  MULTIPOLYGON (((0.07317 51.52937, 0.07316 51.5...  \n"
     ],
     "output_type": "stream"
    }
   ],
   "source": [
    "import pandas as pd\n",
    "import geopandas as gpd\n",
    "\n",
    "# 1-  Listing points\n",
    "listings = pd.read_csv(\"./data/listings/201504_listings.csv\")\n",
    "\n",
    "# 2 - convert to Geopandas Geodataframe\n",
    "gdf_listings = gpd.GeoDataFrame(listings, \n",
    "               geometry=gpd.points_from_xy(listings.longitude, listings.latitude))\n",
    "\n",
    "# 3 - Neighbourhoods\n",
    "geojson_file = 'data/neighbourhoods.geojson'\n",
    "neighborhoods = gpd.read_file(geojson_file)\n",
    "\n",
    "print(neighborhoods)"
   ]
  }
 ],
 "metadata": {
  "kernelspec": {
   "display_name": "Python 3",
   "language": "python",
   "name": "python3"
  },
  "language_info": {
   "codemirror_mode": {
    "name": "ipython",
    "version": 2
   },
   "file_extension": ".py",
   "mimetype": "text/x-python",
   "name": "python",
   "nbconvert_exporter": "python",
   "pygments_lexer": "ipython2",
   "version": "2.7.6"
  },
  "pycharm": {
   "stem_cell": {
    "cell_type": "raw",
    "source": [],
    "metadata": {
     "collapsed": false
    }
   }
  }
 },
 "nbformat": 4,
 "nbformat_minor": 0
}