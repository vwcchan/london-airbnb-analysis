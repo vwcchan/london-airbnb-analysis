{
 "cells": [
  {
   "cell_type": "code",
   "execution_count": 5,
   "metadata": {
    "collapsed": true,
    "pycharm": {
     "is_executing": false
    }
   },
   "outputs": [],
   "source": [
    "import pandas as pd\n",
    "import numpy as np\n",
    "import pylab\n",
    "import matplotlib.pyplot as plt\n"
   ]
  },
  {
   "cell_type": "code",
   "execution_count": 9,
   "outputs": [
    {
     "data": {
      "text/html": "        <script type=\"text/javascript\">\n        window.PlotlyConfig = {MathJaxConfig: 'local'};\n        if (window.MathJax) {MathJax.Hub.Config({SVG: {font: \"STIX-Web\"}});}\n        if (typeof require !== 'undefined') {\n        require.undef(\"plotly\");\n        requirejs.config({\n            paths: {\n                'plotly': ['https://cdn.plot.ly/plotly-latest.min']\n            }\n        });\n        require(['plotly'], function(Plotly) {\n            window._Plotly = Plotly;\n        });\n        }\n        </script>\n        "
     },
     "metadata": {},
     "output_type": "display_data"
    },
    {
     "name": "stdout",
     "text": [
      "                        2015 Average Rent  2016 Average Rent  \\\n",
      "Area                                                           \n",
      "Kensington and Chelsea               3130               3215   \n",
      "Westminster                          2990               2956   \n",
      "Camden                               2225               2285   \n",
      "City of London                       2194               2249   \n",
      "Hammersmith and Fulham               1922               1886   \n",
      "Richmond upon Thames                 2021               2036   \n",
      "Islington                            1900               1941   \n",
      "Hackney                              1641               1773   \n",
      "Wandsworth                           1768               1889   \n",
      "Tower Hamlets                        1603               1733   \n",
      "Lambeth                              1556               1690   \n",
      "Southwark                            1540               1600   \n",
      "Brent                                1450               1584   \n",
      "Barnet                               1476               1669   \n",
      "Merton                               1519               1625   \n",
      "Haringey                             1372               1523   \n",
      "Ealing                               1383               1458   \n",
      "Newham                               1168               1314   \n",
      "Hounslow                             1387               1659   \n",
      "Kingston upon Thames                 1333               1453   \n",
      "Harrow                               1272               1370   \n",
      "Greenwich                            1252               1342   \n",
      "Enfield                              1197               1260   \n",
      "Bromley                              1180               1241   \n",
      "Lewisham                             1130               1242   \n",
      "Waltham Forest                       1149               1230   \n",
      "Redbridge                            1090               1199   \n",
      "Hillingdon                           1157               1194   \n",
      "Barking and Dagenham                  965               1099   \n",
      "Havering                              958               1027   \n",
      "Sutton                               1044               1119   \n",
      "Croydon                              1056               1102   \n",
      "Bexley                                936               1036   \n",
      "\n",
      "                        2017 Average Rent  2018 Average Rent  \\\n",
      "Area                                                           \n",
      "Kensington and Chelsea               3544               2882   \n",
      "Westminster                          2784               2784   \n",
      "Camden                               2138               1961   \n",
      "City of London                       2163               2066   \n",
      "Hammersmith and Fulham               2161               1741   \n",
      "Richmond upon Thames                 1830               1891   \n",
      "Islington                            1886               1860   \n",
      "Hackney                              1804               1795   \n",
      "Wandsworth                           1853               1873   \n",
      "Tower Hamlets                        1801               1739   \n",
      "Lambeth                              1670               1647   \n",
      "Southwark                            1653               1623   \n",
      "Brent                                1592               1571   \n",
      "Barnet                               1588               1508   \n",
      "Merton                               1608               1584   \n",
      "Haringey                             1518               1496   \n",
      "Ealing                               1519               1514   \n",
      "Newham                               1391               1374   \n",
      "Hounslow                             1496               1309   \n",
      "Kingston upon Thames                 1417               1406   \n",
      "Harrow                               1417               1361   \n",
      "Greenwich                            1384               1434   \n",
      "Enfield                              1389               1324   \n",
      "Bromley                              1243               1226   \n",
      "Lewisham                             1307               1306   \n",
      "Waltham Forest                       1312               1300   \n",
      "Redbridge                            1253               1270   \n",
      "Hillingdon                           1198               1281   \n",
      "Barking and Dagenham                 1171               1184   \n",
      "Havering                             1061               1135   \n",
      "Sutton                               1159               1137   \n",
      "Croydon                              1104               1144   \n",
      "Bexley                               1086               1044   \n",
      "\n",
      "                        2019 Average Rent  \n",
      "Area                                       \n",
      "Kensington and Chelsea               3208  \n",
      "Westminster                          2832  \n",
      "Camden                               2427  \n",
      "City of London                       2377  \n",
      "Hammersmith and Fulham               2070  \n",
      "Richmond upon Thames                 1896  \n",
      "Islington                            1895  \n",
      "Hackney                              1834  \n",
      "Wandsworth                           1828  \n",
      "Tower Hamlets                        1773  \n",
      "Lambeth                              1751  \n",
      "Southwark                            1676  \n",
      "Brent                                1578  \n",
      "Barnet                               1548  \n",
      "Merton                               1542  \n",
      "Haringey                             1513  \n",
      "Ealing                               1484  \n",
      "Newham                               1422  \n",
      "Hounslow                             1410  \n",
      "Kingston upon Thames                 1396  \n",
      "Harrow                               1396  \n",
      "Greenwich                            1380  \n",
      "Enfield                              1325  \n",
      "Bromley                              1318  \n",
      "Lewisham                             1318  \n",
      "Waltham Forest                       1314  \n",
      "Redbridge                            1303  \n",
      "Hillingdon                           1268  \n",
      "Barking and Dagenham                 1192  \n",
      "Havering                             1131  \n",
      "Sutton                               1130  \n",
      "Croydon                              1112  \n",
      "Bexley                               1084  \n"
     ],
     "output_type": "stream"
    }
   ],
   "source": [
    "data_path = \"./data/average_rent_by_borough-2.csv\"\n",
    "rent =  pd.read_csv(data_path, index_col=0) \n",
    "\n",
    "import cufflinks as cf\n",
    "cf.go_offline()\n",
    "cf.set_config_file(offline=False, world_readable=True)\n",
    " \n",
    "\n",
    "\n",
    "df = pd.DataFrame(rent, columns = ['2015 Average Rent','2016 Average Rent','2017 Average Rent',\n",
    "                                   '2018 Average Rent', '2019 Average Rent']).sort_values('2019 Average Rent' , ascending = False)\n",
    "\n",
    "print (df)\n"
   ],
   "metadata": {
    "collapsed": false,
    "pycharm": {
     "name": "#%%\n",
     "is_executing": false
    }
   }
  },
  {
   "cell_type": "code",
   "execution_count": 10,
   "outputs": [
    {
     "name": "stdout",
     "text": [
      "                        2015  2016  2017  2018  2019\n",
      "Neighbourhood                                       \n",
      "Kensington and Chelsea  3130  3215  3544  2882  3208\n",
      "Westminster             2990  2956  2784  2784  2832\n",
      "Camden                  2225  2285  2138  1961  2427\n",
      "City of London          2194  2249  2163  2066  2377\n",
      "Hammersmith and Fulham  1922  1886  2161  1741  2070\n",
      "Richmond upon Thames    2021  2036  1830  1891  1896\n",
      "Islington               1900  1941  1886  1860  1895\n",
      "Hackney                 1641  1773  1804  1795  1834\n",
      "Wandsworth              1768  1889  1853  1873  1828\n",
      "Tower Hamlets           1603  1733  1801  1739  1773\n",
      "Lambeth                 1556  1690  1670  1647  1751\n",
      "Southwark               1540  1600  1653  1623  1676\n",
      "Brent                   1450  1584  1592  1571  1578\n",
      "Barnet                  1476  1669  1588  1508  1548\n",
      "Merton                  1519  1625  1608  1584  1542\n",
      "Haringey                1372  1523  1518  1496  1513\n",
      "Ealing                  1383  1458  1519  1514  1484\n",
      "Newham                  1168  1314  1391  1374  1422\n",
      "Hounslow                1387  1659  1496  1309  1410\n",
      "Kingston upon Thames    1333  1453  1417  1406  1396\n",
      "Harrow                  1272  1370  1417  1361  1396\n",
      "Greenwich               1252  1342  1384  1434  1380\n",
      "Enfield                 1197  1260  1389  1324  1325\n",
      "Bromley                 1180  1241  1243  1226  1318\n",
      "Lewisham                1130  1242  1307  1306  1318\n",
      "Waltham Forest          1149  1230  1312  1300  1314\n",
      "Redbridge               1090  1199  1253  1270  1303\n",
      "Hillingdon              1157  1194  1198  1281  1268\n",
      "Barking and Dagenham     965  1099  1171  1184  1192\n",
      "Havering                 958  1027  1061  1135  1131\n",
      "Sutton                  1044  1119  1159  1137  1130\n",
      "Croydon                 1056  1102  1104  1144  1112\n",
      "Bexley                   936  1036  1086  1044  1084\n"
     ],
     "output_type": "stream"
    }
   ],
   "source": [
    "dfs = pd.concat([df], axis=1)\\\n",
    "      .fillna(0).apply(np.int64)\n",
    "#fillna(0) converts NaN to 0, apply(np.int64) convert float to int (not applied to NaN)\n",
    "\n",
    "dfs.columns = ['2015','2016','2017','2018','2019']\n",
    "dfs.index.name = 'Neighbourhood'\n",
    "\n",
    "print(dfs)"
   ],
   "metadata": {
    "collapsed": false,
    "pycharm": {
     "name": "#%%\n",
     "is_executing": false
    }
   }
  },
  {
   "cell_type": "code",
   "execution_count": 1,
   "outputs": [
    {
     "traceback": [
      "\u001b[0;31m---------------------------------------------------------------------------\u001b[0m",
      "\u001b[0;31mNameError\u001b[0m                                 Traceback (most recent call last)",
      "\u001b[0;32m<ipython-input-1-b52463eb4106>\u001b[0m in \u001b[0;36m<module>\u001b[0;34m\u001b[0m\n\u001b[0;32m----> 1\u001b[0;31m \u001b[0mdfs_10\u001b[0m \u001b[0;34m=\u001b[0m \u001b[0mdfs\u001b[0m\u001b[0;34m.\u001b[0m\u001b[0mhead\u001b[0m\u001b[0;34m(\u001b[0m\u001b[0;36m10\u001b[0m\u001b[0;34m)\u001b[0m\u001b[0;34m\u001b[0m\u001b[0;34m\u001b[0m\u001b[0m\n\u001b[0m\u001b[1;32m      2\u001b[0m \u001b[0mprint\u001b[0m\u001b[0;34m(\u001b[0m\u001b[0mdfs_10\u001b[0m\u001b[0;34m)\u001b[0m\u001b[0;34m\u001b[0m\u001b[0;34m\u001b[0m\u001b[0m\n\u001b[1;32m      3\u001b[0m \u001b[0mdfs_10\u001b[0m\u001b[0;34m.\u001b[0m\u001b[0mT\u001b[0m\u001b[0;34m.\u001b[0m\u001b[0miplot\u001b[0m\u001b[0;34m(\u001b[0m\u001b[0mtitle\u001b[0m\u001b[0;34m=\u001b[0m\u001b[0;34m'Average monthly rent, by borough'\u001b[0m\u001b[0;34m)\u001b[0m\u001b[0;34m\u001b[0m\u001b[0;34m\u001b[0m\u001b[0m\n\u001b[1;32m      4\u001b[0m \u001b[0mtype\u001b[0m\u001b[0;34m(\u001b[0m\u001b[0mdfs\u001b[0m\u001b[0;34m)\u001b[0m\u001b[0;34m\u001b[0m\u001b[0;34m\u001b[0m\u001b[0m\n\u001b[1;32m      5\u001b[0m \u001b[0;34m\u001b[0m\u001b[0m\n",
      "\u001b[0;31mNameError\u001b[0m: name 'dfs' is not defined"
     ],
     "ename": "NameError",
     "evalue": "name 'dfs' is not defined",
     "output_type": "error"
    }
   ],
   "source": [
    "dfs_10 = dfs.head(10)\n",
    "print(dfs_10)\n",
    "dfs_10.T.iplot(title='Average monthly rent, by borough')\n",
    "\n"
   ],
   "metadata": {
    "collapsed": false,
    "pycharm": {
     "name": "#%%\n",
     "is_executing": false
    }
   }
  }
 ],
 "metadata": {
  "kernelspec": {
   "display_name": "Python 3",
   "language": "python",
   "name": "python3"
  },
  "language_info": {
   "codemirror_mode": {
    "name": "ipython",
    "version": 2
   },
   "file_extension": ".py",
   "mimetype": "text/x-python",
   "name": "python",
   "nbconvert_exporter": "python",
   "pygments_lexer": "ipython2",
   "version": "2.7.6"
  },
  "pycharm": {
   "stem_cell": {
    "cell_type": "raw",
    "source": [],
    "metadata": {
     "collapsed": false
    }
   }
  }
 },
 "nbformat": 4,
 "nbformat_minor": 0
}